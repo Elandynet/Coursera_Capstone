{
 "cells": [
  {
   "cell_type": "markdown",
   "metadata": {},
   "source": [
    "<h1>Capstone Project Week 3 Assignment</h1>\n",
    "<p>By Andres Lopez</p>\n",
    "</br>\n",
    "<p>This notebook has three parts:</p>\n",
    "<ul><li>Web Scraping and Dataframe preprocessing</li><li>Adding Latitude and Longitude to the Dataframe</li>\n",
    "    <li>Exploring and Clustering</li></ul>"
   ]
  },
  {
   "cell_type": "markdown",
   "metadata": {},
   "source": [
    "<h3>Part I - Web scraping and dataframe pre-processing</h3>"
   ]
  },
  {
   "cell_type": "code",
   "execution_count": 1,
   "metadata": {},
   "outputs": [],
   "source": [
    "import pandas as pd\n",
    "import requests\n",
    "from bs4 import BeautifulSoup"
   ]
  },
  {
   "cell_type": "code",
   "execution_count": 2,
   "metadata": {},
   "outputs": [],
   "source": [
    "r = requests.get('https://en.wikipedia.org/wiki/List_of_postal_codes_of_Canada:_M')\n",
    "soup = BeautifulSoup(r.text, 'html.parser')\n",
    "results = soup.find_all('table', attrs={'class':'wikitable sortable'})"
   ]
  },
  {
   "cell_type": "markdown",
   "metadata": {},
   "source": [
    "<p><strong>The cells of the first row will be store in a list to create the headers of the dataframe</strong></p>"
   ]
  },
  {
   "cell_type": "code",
   "execution_count": 3,
   "metadata": {},
   "outputs": [],
   "source": [
    "table_obj = results[0] #gets the first row of the table\n",
    "headers = table_obj.find_all('th') #gets each heaader\n",
    "col_head = [] \n",
    "for x in headers:\n",
    "    header_text = x\n",
    "    col_head.append(header_text.text[0:-1])"
   ]
  },
  {
   "cell_type": "markdown",
   "metadata": {},
   "source": [
    "<p><strong>The cells of all the other rows will be store in three lists, each with the content of one column</strong></p>"
   ]
  },
  {
   "cell_type": "code",
   "execution_count": 4,
   "metadata": {},
   "outputs": [],
   "source": [
    "rows = table_obj.find_all('tr')\n",
    "rows.pop(0) #the first row is the header row, already stored in the col_head list so it must be deleted here\n",
    "postal = []\n",
    "borough = []\n",
    "neigh = []\n",
    "for x in rows: #iteration to get the text in each row\n",
    "    c_content =[]\n",
    "    cells_obj = x\n",
    "    cells_list = cells_obj.find_all('td')\n",
    "    for y in cells_list: #iteration to get the text of each cell in a row\n",
    "        cell_text = y\n",
    "        c_content.append(cell_text.text[0:-1])\n",
    "    if 'Not assigned' not in c_content:  #if the Borough column says 'Not Assigned' the row will be ignored\n",
    "        postal.append(c_content[0])\n",
    "        borough.append(c_content[1])\n",
    "        if c_content[2] == \"\":       #If the Neighnorhood cell is blank, the text of the Bourough column will be copied\n",
    "            c_content[2] = c_content[1]\n",
    "        neigh.append(c_content[2])"
   ]
  },
  {
   "cell_type": "markdown",
   "metadata": {},
   "source": [
    "<p><strong>Making sure that no postal code is listed twice</strong></p>\n",
    "<p>The assignment instructions indicate that there is at least one postal code listed twice. However, that doesn't seem the case. I'm assuming the table has been edited since the assignment isntructions were posted.</p>"
   ]
  },
  {
   "cell_type": "code",
   "execution_count": 5,
   "metadata": {},
   "outputs": [
    {
     "name": "stdout",
     "output_type": "stream",
     "text": [
      "There are no duplicate zip codes\n"
     ]
    }
   ],
   "source": [
    "if len(postal) == len(set(postal)):\n",
    "    print(\"There are no duplicate zip codes\")\n",
    "else:\n",
    "    print(\"There are uplicate zip codes\")"
   ]
  },
  {
   "cell_type": "markdown",
   "metadata": {},
   "source": [
    "<p><strong>Create a dataframe using the lists with the data in the Wikipidia table</strong></p>"
   ]
  },
  {
   "cell_type": "code",
   "execution_count": 6,
   "metadata": {},
   "outputs": [
    {
     "data": {
      "text/html": [
       "<div>\n",
       "<style scoped>\n",
       "    .dataframe tbody tr th:only-of-type {\n",
       "        vertical-align: middle;\n",
       "    }\n",
       "\n",
       "    .dataframe tbody tr th {\n",
       "        vertical-align: top;\n",
       "    }\n",
       "\n",
       "    .dataframe thead th {\n",
       "        text-align: right;\n",
       "    }\n",
       "</style>\n",
       "<table border=\"1\" class=\"dataframe\">\n",
       "  <thead>\n",
       "    <tr style=\"text-align: right;\">\n",
       "      <th></th>\n",
       "      <th>index</th>\n",
       "      <th>Postal code</th>\n",
       "      <th>Borough</th>\n",
       "      <th>Neighborhood</th>\n",
       "    </tr>\n",
       "  </thead>\n",
       "  <tbody>\n",
       "    <tr>\n",
       "      <th>0</th>\n",
       "      <td>6</td>\n",
       "      <td>M1B</td>\n",
       "      <td>Scarborough</td>\n",
       "      <td>Malvern / Rouge</td>\n",
       "    </tr>\n",
       "    <tr>\n",
       "      <th>1</th>\n",
       "      <td>12</td>\n",
       "      <td>M1C</td>\n",
       "      <td>Scarborough</td>\n",
       "      <td>Rouge Hill / Port Union / Highland Creek</td>\n",
       "    </tr>\n",
       "    <tr>\n",
       "      <th>2</th>\n",
       "      <td>18</td>\n",
       "      <td>M1E</td>\n",
       "      <td>Scarborough</td>\n",
       "      <td>Guildwood / Morningside / West Hill</td>\n",
       "    </tr>\n",
       "    <tr>\n",
       "      <th>3</th>\n",
       "      <td>22</td>\n",
       "      <td>M1G</td>\n",
       "      <td>Scarborough</td>\n",
       "      <td>Woburn</td>\n",
       "    </tr>\n",
       "    <tr>\n",
       "      <th>4</th>\n",
       "      <td>26</td>\n",
       "      <td>M1H</td>\n",
       "      <td>Scarborough</td>\n",
       "      <td>Cedarbrae</td>\n",
       "    </tr>\n",
       "  </tbody>\n",
       "</table>\n",
       "</div>"
      ],
      "text/plain": [
       "   index Postal code      Borough                              Neighborhood\n",
       "0      6         M1B  Scarborough                           Malvern / Rouge\n",
       "1     12         M1C  Scarborough  Rouge Hill / Port Union / Highland Creek\n",
       "2     18         M1E  Scarborough       Guildwood / Morningside / West Hill\n",
       "3     22         M1G  Scarborough                                    Woburn\n",
       "4     26         M1H  Scarborough                                 Cedarbrae"
      ]
     },
     "execution_count": 6,
     "metadata": {},
     "output_type": "execute_result"
    }
   ],
   "source": [
    "table = {col_head[0]:postal, col_head[1]:borough, col_head[2]:neigh}\n",
    "df_toronto = pd.DataFrame(table)\n",
    "df_toronto.sort_values(by=['Postal code'], inplace=True) #sorting is ncessary to add the coordenates columns later \n",
    "df_toronto.reset_index(inplace=True)\n",
    "df_toronto.head()"
   ]
  },
  {
   "cell_type": "code",
   "execution_count": 7,
   "metadata": {},
   "outputs": [
    {
     "data": {
      "text/plain": [
       "(103, 4)"
      ]
     },
     "execution_count": 7,
     "metadata": {},
     "output_type": "execute_result"
    }
   ],
   "source": [
    "df_toronto.shape"
   ]
  },
  {
   "cell_type": "markdown",
   "metadata": {},
   "source": [
    "<h3>Part II - Adding Latitude and Longitude</h3>\n",
    "<p>Since the assignment gives the option, I used the csv file instead of the Geocoder Python package</p>"
   ]
  },
  {
   "cell_type": "code",
   "execution_count": 8,
   "metadata": {},
   "outputs": [
    {
     "data": {
      "text/plain": [
       "(103, 3)"
      ]
     },
     "execution_count": 8,
     "metadata": {},
     "output_type": "execute_result"
    }
   ],
   "source": [
    "location = \"http://cocl.us/Geospatial_data\"\n",
    "df_coord = pd.read_csv(location)\n",
    "#sort the dataframe by postal code to make sure it aligns correctly with the df_toronto dataframe\n",
    "df_coord.sort_values(by=['Postal Code'], inplace=True) \n",
    "#let's make sure it has the same number of rows than df_toronto\n",
    "df_coord.shape"
   ]
  },
  {
   "cell_type": "code",
   "execution_count": 9,
   "metadata": {},
   "outputs": [
    {
     "data": {
      "text/html": [
       "<div>\n",
       "<style scoped>\n",
       "    .dataframe tbody tr th:only-of-type {\n",
       "        vertical-align: middle;\n",
       "    }\n",
       "\n",
       "    .dataframe tbody tr th {\n",
       "        vertical-align: top;\n",
       "    }\n",
       "\n",
       "    .dataframe thead th {\n",
       "        text-align: right;\n",
       "    }\n",
       "</style>\n",
       "<table border=\"1\" class=\"dataframe\">\n",
       "  <thead>\n",
       "    <tr style=\"text-align: right;\">\n",
       "      <th></th>\n",
       "      <th>Postal Code</th>\n",
       "      <th>Latitude</th>\n",
       "      <th>Longitude</th>\n",
       "    </tr>\n",
       "  </thead>\n",
       "  <tbody>\n",
       "    <tr>\n",
       "      <th>0</th>\n",
       "      <td>M1B</td>\n",
       "      <td>43.806686</td>\n",
       "      <td>-79.194353</td>\n",
       "    </tr>\n",
       "    <tr>\n",
       "      <th>1</th>\n",
       "      <td>M1C</td>\n",
       "      <td>43.784535</td>\n",
       "      <td>-79.160497</td>\n",
       "    </tr>\n",
       "    <tr>\n",
       "      <th>2</th>\n",
       "      <td>M1E</td>\n",
       "      <td>43.763573</td>\n",
       "      <td>-79.188711</td>\n",
       "    </tr>\n",
       "    <tr>\n",
       "      <th>3</th>\n",
       "      <td>M1G</td>\n",
       "      <td>43.770992</td>\n",
       "      <td>-79.216917</td>\n",
       "    </tr>\n",
       "    <tr>\n",
       "      <th>4</th>\n",
       "      <td>M1H</td>\n",
       "      <td>43.773136</td>\n",
       "      <td>-79.239476</td>\n",
       "    </tr>\n",
       "  </tbody>\n",
       "</table>\n",
       "</div>"
      ],
      "text/plain": [
       "  Postal Code   Latitude  Longitude\n",
       "0         M1B  43.806686 -79.194353\n",
       "1         M1C  43.784535 -79.160497\n",
       "2         M1E  43.763573 -79.188711\n",
       "3         M1G  43.770992 -79.216917\n",
       "4         M1H  43.773136 -79.239476"
      ]
     },
     "execution_count": 9,
     "metadata": {},
     "output_type": "execute_result"
    }
   ],
   "source": [
    "#let's take a look at the dataframe\n",
    "df_coord.head()"
   ]
  },
  {
   "cell_type": "markdown",
   "metadata": {},
   "source": [
    "<p><strong>Now we add the two columns with the coordentaes to the intitial dataframe</strong></p>\n",
    "<p>The dataframe with the Neighborhoods (df_toronto) and the dataframe with the coordinates (df_coord)\n",
    "both have the same number of rows and both are sorted by zip code, so it should be safe to add the coordinates from  \n",
    "df_coord to df_toronto</p>"
   ]
  },
  {
   "cell_type": "code",
   "execution_count": 10,
   "metadata": {},
   "outputs": [
    {
     "data": {
      "text/html": [
       "<div>\n",
       "<style scoped>\n",
       "    .dataframe tbody tr th:only-of-type {\n",
       "        vertical-align: middle;\n",
       "    }\n",
       "\n",
       "    .dataframe tbody tr th {\n",
       "        vertical-align: top;\n",
       "    }\n",
       "\n",
       "    .dataframe thead th {\n",
       "        text-align: right;\n",
       "    }\n",
       "</style>\n",
       "<table border=\"1\" class=\"dataframe\">\n",
       "  <thead>\n",
       "    <tr style=\"text-align: right;\">\n",
       "      <th></th>\n",
       "      <th>index</th>\n",
       "      <th>Postal code</th>\n",
       "      <th>Borough</th>\n",
       "      <th>Neighborhood</th>\n",
       "      <th>Latitude</th>\n",
       "      <th>Longitude</th>\n",
       "    </tr>\n",
       "  </thead>\n",
       "  <tbody>\n",
       "    <tr>\n",
       "      <th>0</th>\n",
       "      <td>6</td>\n",
       "      <td>M1B</td>\n",
       "      <td>Scarborough</td>\n",
       "      <td>Malvern / Rouge</td>\n",
       "      <td>43.806686</td>\n",
       "      <td>-79.194353</td>\n",
       "    </tr>\n",
       "    <tr>\n",
       "      <th>1</th>\n",
       "      <td>12</td>\n",
       "      <td>M1C</td>\n",
       "      <td>Scarborough</td>\n",
       "      <td>Rouge Hill / Port Union / Highland Creek</td>\n",
       "      <td>43.784535</td>\n",
       "      <td>-79.160497</td>\n",
       "    </tr>\n",
       "    <tr>\n",
       "      <th>2</th>\n",
       "      <td>18</td>\n",
       "      <td>M1E</td>\n",
       "      <td>Scarborough</td>\n",
       "      <td>Guildwood / Morningside / West Hill</td>\n",
       "      <td>43.763573</td>\n",
       "      <td>-79.188711</td>\n",
       "    </tr>\n",
       "    <tr>\n",
       "      <th>3</th>\n",
       "      <td>22</td>\n",
       "      <td>M1G</td>\n",
       "      <td>Scarborough</td>\n",
       "      <td>Woburn</td>\n",
       "      <td>43.770992</td>\n",
       "      <td>-79.216917</td>\n",
       "    </tr>\n",
       "    <tr>\n",
       "      <th>4</th>\n",
       "      <td>26</td>\n",
       "      <td>M1H</td>\n",
       "      <td>Scarborough</td>\n",
       "      <td>Cedarbrae</td>\n",
       "      <td>43.773136</td>\n",
       "      <td>-79.239476</td>\n",
       "    </tr>\n",
       "  </tbody>\n",
       "</table>\n",
       "</div>"
      ],
      "text/plain": [
       "   index Postal code      Borough                              Neighborhood  \\\n",
       "0      6         M1B  Scarborough                           Malvern / Rouge   \n",
       "1     12         M1C  Scarborough  Rouge Hill / Port Union / Highland Creek   \n",
       "2     18         M1E  Scarborough       Guildwood / Morningside / West Hill   \n",
       "3     22         M1G  Scarborough                                    Woburn   \n",
       "4     26         M1H  Scarborough                                 Cedarbrae   \n",
       "\n",
       "    Latitude  Longitude  \n",
       "0  43.806686 -79.194353  \n",
       "1  43.784535 -79.160497  \n",
       "2  43.763573 -79.188711  \n",
       "3  43.770992 -79.216917  \n",
       "4  43.773136 -79.239476  "
      ]
     },
     "execution_count": 10,
     "metadata": {},
     "output_type": "execute_result"
    }
   ],
   "source": [
    "df_toronto['Latitude'] = df_coord['Latitude']\n",
    "df_toronto['Longitude'] = df_coord['Longitude']\n",
    "df_toronto.head()"
   ]
  },
  {
   "cell_type": "markdown",
   "metadata": {},
   "source": [
    "<h3>Part III - Exploring and Clustering</h3>\n",
    "<p><strong>A. Exploring</strong></p>"
   ]
  },
  {
   "cell_type": "code",
   "execution_count": 11,
   "metadata": {},
   "outputs": [],
   "source": [
    "from geopy.geocoders import Nominatim\n",
    "import folium\n",
    "import matplotlib.cm as cm\n",
    "import matplotlib.colors as colors\n",
    "from sklearn.cluster import KMeans\n",
    "import folium\n",
    "import json\n",
    "from pandas.io.json import json_normalize\n",
    "%matplotlib inline"
   ]
  },
  {
   "cell_type": "markdown",
   "metadata": {},
   "source": [
    "<p><strong>Map with all the neighborhoods in Toronto</strong></p>"
   ]
  },
  {
   "cell_type": "code",
   "execution_count": 12,
   "metadata": {},
   "outputs": [
    {
     "name": "stdout",
     "output_type": "stream",
     "text": [
      "Toronto Coordinates: 43.6534817, -79.3839347.\n"
     ]
    }
   ],
   "source": [
    "address = 'Toronto, ON'\n",
    "geolocator = Nominatim(user_agent=\"tnto_explorer\")\n",
    "location = geolocator.geocode(address)\n",
    "latitude = location.latitude\n",
    "longitude = location.longitude\n",
    "print('Toronto Coordinates: {}, {}.'.format(latitude, longitude))"
   ]
  },
  {
   "cell_type": "code",
   "execution_count": 13,
   "metadata": {
    "scrolled": true
   },
   "outputs": [
    {
     "data": {
      "text/html": [
       "<div style=\"width:100%;\"><div style=\"position:relative;width:100%;height:0;padding-bottom:60%;\"><iframe src=\"about:blank\" style=\"position:absolute;width:100%;height:100%;left:0;top:0;border:none !important;\" data-html=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 onload=\"this.contentDocument.open();this.contentDocument.write(atob(this.getAttribute('data-html')));this.contentDocument.close();\" allowfullscreen webkitallowfullscreen mozallowfullscreen></iframe></div></div>"
      ],
      "text/plain": [
       "<folium.folium.Map at 0x1c9eb088>"
      ]
     },
     "execution_count": 13,
     "metadata": {},
     "output_type": "execute_result"
    }
   ],
   "source": [
    "map_toronto = folium.Map(location=[latitude, longitude], zoom_start=10)\n",
    "for lat, lng, borough, neighborhood in zip(df_toronto['Latitude'], \n",
    "        df_toronto['Longitude'], df_toronto['Borough'], df_toronto['Neighborhood']):\n",
    "    label = '{}, {}'.format(neighborhood, borough)\n",
    "    label = folium.Popup(label, parse_html=True)\n",
    "    folium.CircleMarker(\n",
    "        [lat, lng],\n",
    "        radius=2,\n",
    "        popup=label,\n",
    "        color='#3186cc',\n",
    "        fill=True,\n",
    "        fill_color='#3186cc',\n",
    "        parse_html=False).add_to(map_toronto)  \n",
    "map_toronto"
   ]
  },
  {
   "cell_type": "markdown",
   "metadata": {},
   "source": [
    "<p><strong>Now let's focus on Downtown Toronto and explore it</strong></p>"
   ]
  },
  {
   "cell_type": "code",
   "execution_count": 14,
   "metadata": {},
   "outputs": [
    {
     "name": "stdout",
     "output_type": "stream",
     "text": [
      "Downtown Toronto has 19 neighborhoods.\n"
     ]
    }
   ],
   "source": [
    "downtown = df_toronto[df_toronto['Borough'] == 'Downtown Toronto'].reset_index(drop=True)\n",
    "print('Downtown Toronto has {} neighborhoods.'.format(downtown.shape[0]))"
   ]
  },
  {
   "cell_type": "code",
   "execution_count": 15,
   "metadata": {},
   "outputs": [
    {
     "name": "stdout",
     "output_type": "stream",
     "text": [
      "Downtown Toronto Coordinates: 43.6563221, -79.3809161.\n"
     ]
    }
   ],
   "source": [
    "address = 'Downtown Toronto, ON'\n",
    "geolocator = Nominatim(user_agent=\"dtwn_explorer\")\n",
    "location = geolocator.geocode(address)\n",
    "latitude = location.latitude\n",
    "longitude = location.longitude\n",
    "print('Downtown Toronto Coordinates: {}, {}.'.format(latitude, longitude))"
   ]
  },
  {
   "cell_type": "code",
   "execution_count": 16,
   "metadata": {},
   "outputs": [
    {
     "data": {
      "text/html": [
       "<div style=\"width:100%;\"><div style=\"position:relative;width:100%;height:0;padding-bottom:60%;\"><iframe src=\"about:blank\" style=\"position:absolute;width:100%;height:100%;left:0;top:0;border:none !important;\" data-html=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 onload=\"this.contentDocument.open();this.contentDocument.write(atob(this.getAttribute('data-html')));this.contentDocument.close();\" allowfullscreen webkitallowfullscreen mozallowfullscreen></iframe></div></div>"
      ],
      "text/plain": [
       "<folium.folium.Map at 0x1cabf5c8>"
      ]
     },
     "execution_count": 16,
     "metadata": {},
     "output_type": "execute_result"
    }
   ],
   "source": [
    "map_downtown = folium.Map(location=[latitude, longitude], zoom_start=13)\n",
    "for lat, lng, borough, neighborhood in zip(downtown['Latitude'], downtown['Longitude'], downtown['Borough'], downtown['Neighborhood']):\n",
    "    label = '{}, {}'.format(neighborhood, borough)\n",
    "    label = folium.Popup(label, parse_html=True)\n",
    "    folium.CircleMarker(\n",
    "        [lat, lng],\n",
    "        radius=5,\n",
    "        popup=label,\n",
    "        color='#f5425a',\n",
    "        fill=True,\n",
    "        fill_color='#f5425a',\n",
    "        fill_opacity=1,\n",
    "        parse_html=False).add_to(map_downtown)  \n",
    "map_downtown"
   ]
  },
  {
   "cell_type": "markdown",
   "metadata": {},
   "source": [
    "<p><strong>Getting all the venues in Downtown Toronto</strong></p>"
   ]
  },
  {
   "cell_type": "code",
   "execution_count": 17,
   "metadata": {},
   "outputs": [],
   "source": [
    "CLIENT_ID = '2IGBWCWEV040N5NA1OFGXZHSE3IGB0JBLMQK54LGUG2SYUMM'\n",
    "CLIENT_SECRET = 'E23X3LXXJKJOH5XIJI0VQBO2CCSEQVXNIIBYUGGFSMZSOGCS' \n",
    "VERSION = '20200430'\n",
    "LIMIT = 100"
   ]
  },
  {
   "cell_type": "code",
   "execution_count": 18,
   "metadata": {},
   "outputs": [],
   "source": [
    "#These functions will be use to get the venues info from Fousquare, clean it, and ut it in a dataframe\n",
    "def category(row):\n",
    "    try:\n",
    "        categories_list = row['categories']\n",
    "    except:\n",
    "        categories_list = row['venue.categories']\n",
    "    if len(categories_list) == 0:\n",
    "        return None\n",
    "    else:\n",
    "        return categories_list[0]['name']\n",
    "\n",
    "def getVenues(names, latitudes, longitudes, radius=500):\n",
    "    venues_list=[]\n",
    "    for name, lat, lng in zip(names, latitudes, longitudes):\n",
    "        url = 'https://api.foursquare.com/v2/venues/explore?&client_id={}&client_secret={}&v={}&ll={},{}&radius={}&limit={}'.format(\n",
    "            CLIENT_ID, CLIENT_SECRET, VERSION, lat, lng, radius, LIMIT)\n",
    "        results = requests.get(url).json()[\"response\"]['groups'][0]['items']\n",
    "        venues_list.append([(\n",
    "            name, \n",
    "            lat, \n",
    "            lng, \n",
    "            v['venue']['name'], \n",
    "            v['venue']['location']['lat'], \n",
    "            v['venue']['location']['lng'],  \n",
    "            v['venue']['categories'][0]['name']) for v in results])\n",
    "\n",
    "    venues = pd.DataFrame([item for venue_list in venues_list for item in venue_list])\n",
    "    venues.columns = ['Neighborhood', 'Neighborhood Latitude', 'Neighborhood Longitude', \n",
    "                  'Venue', 'Venue Latitude', 'Venue Longitude', 'Venue Category']\n",
    "    return(venues)"
   ]
  },
  {
   "cell_type": "code",
   "execution_count": 19,
   "metadata": {},
   "outputs": [
    {
     "name": "stdout",
     "output_type": "stream",
     "text": [
      "Downtown Toronto has 1223 venues.\n"
     ]
    },
    {
     "data": {
      "text/html": [
       "<div>\n",
       "<style scoped>\n",
       "    .dataframe tbody tr th:only-of-type {\n",
       "        vertical-align: middle;\n",
       "    }\n",
       "\n",
       "    .dataframe tbody tr th {\n",
       "        vertical-align: top;\n",
       "    }\n",
       "\n",
       "    .dataframe thead th {\n",
       "        text-align: right;\n",
       "    }\n",
       "</style>\n",
       "<table border=\"1\" class=\"dataframe\">\n",
       "  <thead>\n",
       "    <tr style=\"text-align: right;\">\n",
       "      <th></th>\n",
       "      <th>Neighborhood</th>\n",
       "      <th>Neighborhood Latitude</th>\n",
       "      <th>Neighborhood Longitude</th>\n",
       "      <th>Venue</th>\n",
       "      <th>Venue Latitude</th>\n",
       "      <th>Venue Longitude</th>\n",
       "      <th>Venue Category</th>\n",
       "    </tr>\n",
       "  </thead>\n",
       "  <tbody>\n",
       "    <tr>\n",
       "      <th>0</th>\n",
       "      <td>Rosedale</td>\n",
       "      <td>43.679563</td>\n",
       "      <td>-79.377529</td>\n",
       "      <td>Rosedale Park</td>\n",
       "      <td>43.682328</td>\n",
       "      <td>-79.378934</td>\n",
       "      <td>Playground</td>\n",
       "    </tr>\n",
       "    <tr>\n",
       "      <th>1</th>\n",
       "      <td>Rosedale</td>\n",
       "      <td>43.679563</td>\n",
       "      <td>-79.377529</td>\n",
       "      <td>Whitney Park</td>\n",
       "      <td>43.682036</td>\n",
       "      <td>-79.373788</td>\n",
       "      <td>Park</td>\n",
       "    </tr>\n",
       "    <tr>\n",
       "      <th>2</th>\n",
       "      <td>Rosedale</td>\n",
       "      <td>43.679563</td>\n",
       "      <td>-79.377529</td>\n",
       "      <td>Alex Murray Parkette</td>\n",
       "      <td>43.678300</td>\n",
       "      <td>-79.382773</td>\n",
       "      <td>Park</td>\n",
       "    </tr>\n",
       "    <tr>\n",
       "      <th>3</th>\n",
       "      <td>Rosedale</td>\n",
       "      <td>43.679563</td>\n",
       "      <td>-79.377529</td>\n",
       "      <td>Milkman's Lane</td>\n",
       "      <td>43.676352</td>\n",
       "      <td>-79.373842</td>\n",
       "      <td>Trail</td>\n",
       "    </tr>\n",
       "    <tr>\n",
       "      <th>4</th>\n",
       "      <td>St. James Town / Cabbagetown</td>\n",
       "      <td>43.667967</td>\n",
       "      <td>-79.367675</td>\n",
       "      <td>Cranberries</td>\n",
       "      <td>43.667843</td>\n",
       "      <td>-79.369407</td>\n",
       "      <td>Diner</td>\n",
       "    </tr>\n",
       "  </tbody>\n",
       "</table>\n",
       "</div>"
      ],
      "text/plain": [
       "                   Neighborhood  Neighborhood Latitude  \\\n",
       "0                      Rosedale              43.679563   \n",
       "1                      Rosedale              43.679563   \n",
       "2                      Rosedale              43.679563   \n",
       "3                      Rosedale              43.679563   \n",
       "4  St. James Town / Cabbagetown              43.667967   \n",
       "\n",
       "   Neighborhood Longitude                 Venue  Venue Latitude  \\\n",
       "0              -79.377529         Rosedale Park       43.682328   \n",
       "1              -79.377529          Whitney Park       43.682036   \n",
       "2              -79.377529  Alex Murray Parkette       43.678300   \n",
       "3              -79.377529        Milkman's Lane       43.676352   \n",
       "4              -79.367675           Cranberries       43.667843   \n",
       "\n",
       "   Venue Longitude Venue Category  \n",
       "0       -79.378934     Playground  \n",
       "1       -79.373788           Park  \n",
       "2       -79.382773           Park  \n",
       "3       -79.373842          Trail  \n",
       "4       -79.369407          Diner  "
      ]
     },
     "execution_count": 19,
     "metadata": {},
     "output_type": "execute_result"
    }
   ],
   "source": [
    "downtown_venues = getVenues(names=downtown['Neighborhood'], \n",
    "                            latitudes=downtown['Latitude'], longitudes=downtown['Longitude'])\n",
    "print('Downtown Toronto has {} venues.'.format(downtown_venues.shape[0]))\n",
    "downtown_venues.head()"
   ]
  },
  {
   "cell_type": "markdown",
   "metadata": {},
   "source": [
    "<p><strong>B. Clustering</strong></p>\n",
    "<p>Before clustering:</p>\n",
    "<ul><li>Convert categorical Venue Category to numeric, and put the categories as columns</li>\n",
    "    <li>Add the Neighborhoods column, and lace it as the first column</li>\n",
    "    <li>Group categories by neighborhood and get the mean</li></ul>"
   ]
  },
  {
   "cell_type": "code",
   "execution_count": 20,
   "metadata": {},
   "outputs": [
    {
     "data": {
      "text/html": [
       "<div>\n",
       "<style scoped>\n",
       "    .dataframe tbody tr th:only-of-type {\n",
       "        vertical-align: middle;\n",
       "    }\n",
       "\n",
       "    .dataframe tbody tr th {\n",
       "        vertical-align: top;\n",
       "    }\n",
       "\n",
       "    .dataframe thead th {\n",
       "        text-align: right;\n",
       "    }\n",
       "</style>\n",
       "<table border=\"1\" class=\"dataframe\">\n",
       "  <thead>\n",
       "    <tr style=\"text-align: right;\">\n",
       "      <th></th>\n",
       "      <th>Neighborhood</th>\n",
       "      <th>Yoga Studio</th>\n",
       "      <th>Afghan Restaurant</th>\n",
       "      <th>Airport</th>\n",
       "      <th>Airport Food Court</th>\n",
       "      <th>Airport Gate</th>\n",
       "      <th>Airport Lounge</th>\n",
       "      <th>Airport Service</th>\n",
       "      <th>Airport Terminal</th>\n",
       "      <th>American Restaurant</th>\n",
       "      <th>...</th>\n",
       "      <th>Thai Restaurant</th>\n",
       "      <th>Theater</th>\n",
       "      <th>Theme Restaurant</th>\n",
       "      <th>Trail</th>\n",
       "      <th>Train Station</th>\n",
       "      <th>Vegetarian / Vegan Restaurant</th>\n",
       "      <th>Video Game Store</th>\n",
       "      <th>Vietnamese Restaurant</th>\n",
       "      <th>Wine Bar</th>\n",
       "      <th>Women's Store</th>\n",
       "    </tr>\n",
       "  </thead>\n",
       "  <tbody>\n",
       "    <tr>\n",
       "      <th>0</th>\n",
       "      <td>Berczy Park</td>\n",
       "      <td>0.000000</td>\n",
       "      <td>0.000000</td>\n",
       "      <td>0.000000</td>\n",
       "      <td>0.000000</td>\n",
       "      <td>0.000000</td>\n",
       "      <td>0.000000</td>\n",
       "      <td>0.000000</td>\n",
       "      <td>0.000000</td>\n",
       "      <td>0.000000</td>\n",
       "      <td>...</td>\n",
       "      <td>0.017544</td>\n",
       "      <td>0.000000</td>\n",
       "      <td>0.000000</td>\n",
       "      <td>0.0</td>\n",
       "      <td>0.0</td>\n",
       "      <td>0.017544</td>\n",
       "      <td>0.0</td>\n",
       "      <td>0.0</td>\n",
       "      <td>0.0</td>\n",
       "      <td>0.0</td>\n",
       "    </tr>\n",
       "    <tr>\n",
       "      <th>1</th>\n",
       "      <td>CN Tower / King and Spadina / Railway Lands / ...</td>\n",
       "      <td>0.000000</td>\n",
       "      <td>0.000000</td>\n",
       "      <td>0.058824</td>\n",
       "      <td>0.058824</td>\n",
       "      <td>0.058824</td>\n",
       "      <td>0.117647</td>\n",
       "      <td>0.117647</td>\n",
       "      <td>0.117647</td>\n",
       "      <td>0.000000</td>\n",
       "      <td>...</td>\n",
       "      <td>0.000000</td>\n",
       "      <td>0.000000</td>\n",
       "      <td>0.000000</td>\n",
       "      <td>0.0</td>\n",
       "      <td>0.0</td>\n",
       "      <td>0.000000</td>\n",
       "      <td>0.0</td>\n",
       "      <td>0.0</td>\n",
       "      <td>0.0</td>\n",
       "      <td>0.0</td>\n",
       "    </tr>\n",
       "    <tr>\n",
       "      <th>2</th>\n",
       "      <td>Central Bay Street</td>\n",
       "      <td>0.015152</td>\n",
       "      <td>0.000000</td>\n",
       "      <td>0.000000</td>\n",
       "      <td>0.000000</td>\n",
       "      <td>0.000000</td>\n",
       "      <td>0.000000</td>\n",
       "      <td>0.000000</td>\n",
       "      <td>0.000000</td>\n",
       "      <td>0.000000</td>\n",
       "      <td>...</td>\n",
       "      <td>0.030303</td>\n",
       "      <td>0.000000</td>\n",
       "      <td>0.000000</td>\n",
       "      <td>0.0</td>\n",
       "      <td>0.0</td>\n",
       "      <td>0.015152</td>\n",
       "      <td>0.0</td>\n",
       "      <td>0.0</td>\n",
       "      <td>0.0</td>\n",
       "      <td>0.0</td>\n",
       "    </tr>\n",
       "    <tr>\n",
       "      <th>3</th>\n",
       "      <td>Christie</td>\n",
       "      <td>0.000000</td>\n",
       "      <td>0.000000</td>\n",
       "      <td>0.000000</td>\n",
       "      <td>0.000000</td>\n",
       "      <td>0.000000</td>\n",
       "      <td>0.000000</td>\n",
       "      <td>0.000000</td>\n",
       "      <td>0.000000</td>\n",
       "      <td>0.000000</td>\n",
       "      <td>...</td>\n",
       "      <td>0.000000</td>\n",
       "      <td>0.000000</td>\n",
       "      <td>0.000000</td>\n",
       "      <td>0.0</td>\n",
       "      <td>0.0</td>\n",
       "      <td>0.000000</td>\n",
       "      <td>0.0</td>\n",
       "      <td>0.0</td>\n",
       "      <td>0.0</td>\n",
       "      <td>0.0</td>\n",
       "    </tr>\n",
       "    <tr>\n",
       "      <th>4</th>\n",
       "      <td>Church and Wellesley</td>\n",
       "      <td>0.025641</td>\n",
       "      <td>0.012821</td>\n",
       "      <td>0.000000</td>\n",
       "      <td>0.000000</td>\n",
       "      <td>0.000000</td>\n",
       "      <td>0.000000</td>\n",
       "      <td>0.000000</td>\n",
       "      <td>0.000000</td>\n",
       "      <td>0.012821</td>\n",
       "      <td>...</td>\n",
       "      <td>0.012821</td>\n",
       "      <td>0.012821</td>\n",
       "      <td>0.012821</td>\n",
       "      <td>0.0</td>\n",
       "      <td>0.0</td>\n",
       "      <td>0.000000</td>\n",
       "      <td>0.0</td>\n",
       "      <td>0.0</td>\n",
       "      <td>0.0</td>\n",
       "      <td>0.0</td>\n",
       "    </tr>\n",
       "  </tbody>\n",
       "</table>\n",
       "<p>5 rows × 207 columns</p>\n",
       "</div>"
      ],
      "text/plain": [
       "                                        Neighborhood  Yoga Studio  \\\n",
       "0                                        Berczy Park     0.000000   \n",
       "1  CN Tower / King and Spadina / Railway Lands / ...     0.000000   \n",
       "2                                 Central Bay Street     0.015152   \n",
       "3                                           Christie     0.000000   \n",
       "4                               Church and Wellesley     0.025641   \n",
       "\n",
       "   Afghan Restaurant   Airport  Airport Food Court  Airport Gate  \\\n",
       "0           0.000000  0.000000            0.000000      0.000000   \n",
       "1           0.000000  0.058824            0.058824      0.058824   \n",
       "2           0.000000  0.000000            0.000000      0.000000   \n",
       "3           0.000000  0.000000            0.000000      0.000000   \n",
       "4           0.012821  0.000000            0.000000      0.000000   \n",
       "\n",
       "   Airport Lounge  Airport Service  Airport Terminal  American Restaurant  \\\n",
       "0        0.000000         0.000000          0.000000             0.000000   \n",
       "1        0.117647         0.117647          0.117647             0.000000   \n",
       "2        0.000000         0.000000          0.000000             0.000000   \n",
       "3        0.000000         0.000000          0.000000             0.000000   \n",
       "4        0.000000         0.000000          0.000000             0.012821   \n",
       "\n",
       "   ...  Thai Restaurant   Theater  Theme Restaurant  Trail  Train Station  \\\n",
       "0  ...         0.017544  0.000000          0.000000    0.0            0.0   \n",
       "1  ...         0.000000  0.000000          0.000000    0.0            0.0   \n",
       "2  ...         0.030303  0.000000          0.000000    0.0            0.0   \n",
       "3  ...         0.000000  0.000000          0.000000    0.0            0.0   \n",
       "4  ...         0.012821  0.012821          0.012821    0.0            0.0   \n",
       "\n",
       "   Vegetarian / Vegan Restaurant  Video Game Store  Vietnamese Restaurant  \\\n",
       "0                       0.017544               0.0                    0.0   \n",
       "1                       0.000000               0.0                    0.0   \n",
       "2                       0.015152               0.0                    0.0   \n",
       "3                       0.000000               0.0                    0.0   \n",
       "4                       0.000000               0.0                    0.0   \n",
       "\n",
       "   Wine Bar  Women's Store  \n",
       "0       0.0            0.0  \n",
       "1       0.0            0.0  \n",
       "2       0.0            0.0  \n",
       "3       0.0            0.0  \n",
       "4       0.0            0.0  \n",
       "\n",
       "[5 rows x 207 columns]"
      ]
     },
     "execution_count": 20,
     "metadata": {},
     "output_type": "execute_result"
    }
   ],
   "source": [
    "downtown_onehot = pd.get_dummies(downtown_venues[['Venue Category']], prefix=\"\", prefix_sep=\"\")\n",
    "downtown_onehot['Neighborhood'] = downtown_venues['Neighborhood'] \n",
    "fixed_columns = [downtown_onehot.columns[-1]] + list(downtown_onehot.columns[:-1])\n",
    "downtown_onehot = downtown_onehot[fixed_columns]\n",
    "downtown_grouped = downtown_onehot.groupby('Neighborhood').mean().reset_index()\n",
    "\n",
    "downtown_grouped.head()"
   ]
  },
  {
   "cell_type": "markdown",
   "metadata": {},
   "source": [
    "<p><strong>K-Means Clustering</strong></p>"
   ]
  },
  {
   "cell_type": "code",
   "execution_count": 21,
   "metadata": {},
   "outputs": [
    {
     "data": {
      "text/plain": [
       "array([1, 2, 1, 3, 1, 1, 1, 1, 1, 1, 1, 1, 1, 0, 1, 1, 1, 1, 1])"
      ]
     },
     "execution_count": 21,
     "metadata": {},
     "output_type": "execute_result"
    }
   ],
   "source": [
    "kclusters = 4\n",
    "downtown_grouped_clustering = downtown_grouped.drop('Neighborhood', 1)\n",
    "kmeans = KMeans(n_clusters=kclusters, random_state=0).fit(downtown_grouped_clustering)\n",
    "\n",
    "#cluster labels\n",
    "kmeans.labels_ "
   ]
  }
 ],
 "metadata": {
  "kernelspec": {
   "display_name": "Python 3",
   "language": "python",
   "name": "python3"
  },
  "language_info": {
   "codemirror_mode": {
    "name": "ipython",
    "version": 3
   },
   "file_extension": ".py",
   "mimetype": "text/x-python",
   "name": "python",
   "nbconvert_exporter": "python",
   "pygments_lexer": "ipython3",
   "version": "3.8.2"
  }
 },
 "nbformat": 4,
 "nbformat_minor": 4
}
